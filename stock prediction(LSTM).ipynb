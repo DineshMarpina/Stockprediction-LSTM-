{
 "cells": [
  {
   "cell_type": "code",
   "execution_count": 17,
   "metadata": {},
   "outputs": [],
   "source": [
    "import numpy as np\n",
    "import pandas as pd"
   ]
  },
  {
   "cell_type": "code",
   "execution_count": 7,
   "metadata": {},
   "outputs": [],
   "source": [
    "import pandas_datareader as pdr"
   ]
  },
  {
   "cell_type": "code",
   "execution_count": 8,
   "metadata": {},
   "outputs": [],
   "source": [
    "key=''#put your API key here"
   ]
  },
  {
   "cell_type": "code",
   "execution_count": 11,
   "metadata": {},
   "outputs": [],
   "source": [
    "df = pdr.get_data_tiingo('AAPL', api_key=key)\n",
    "df.to_csv('AAPL.csv')\n",
    "df=pd.read_csv('AAPL.csv')\n"
   ]
  },
  {
   "cell_type": "code",
   "execution_count": 13,
   "metadata": {},
   "outputs": [
    {
     "data": {
      "text/html": [
       "<div>\n",
       "<style scoped>\n",
       "    .dataframe tbody tr th:only-of-type {\n",
       "        vertical-align: middle;\n",
       "    }\n",
       "\n",
       "    .dataframe tbody tr th {\n",
       "        vertical-align: top;\n",
       "    }\n",
       "\n",
       "    .dataframe thead th {\n",
       "        text-align: right;\n",
       "    }\n",
       "</style>\n",
       "<table border=\"1\" class=\"dataframe\">\n",
       "  <thead>\n",
       "    <tr style=\"text-align: right;\">\n",
       "      <th></th>\n",
       "      <th>symbol</th>\n",
       "      <th>date</th>\n",
       "      <th>close</th>\n",
       "      <th>high</th>\n",
       "      <th>low</th>\n",
       "      <th>open</th>\n",
       "      <th>volume</th>\n",
       "      <th>adjClose</th>\n",
       "      <th>adjHigh</th>\n",
       "      <th>adjLow</th>\n",
       "      <th>adjOpen</th>\n",
       "      <th>adjVolume</th>\n",
       "      <th>divCash</th>\n",
       "      <th>splitFactor</th>\n",
       "    </tr>\n",
       "  </thead>\n",
       "  <tbody>\n",
       "    <tr>\n",
       "      <th>0</th>\n",
       "      <td>AAPL</td>\n",
       "      <td>2017-07-25 00:00:00+00:00</td>\n",
       "      <td>152.74</td>\n",
       "      <td>153.84</td>\n",
       "      <td>151.80</td>\n",
       "      <td>151.80</td>\n",
       "      <td>18612649</td>\n",
       "      <td>36.141886</td>\n",
       "      <td>36.402172</td>\n",
       "      <td>35.919460</td>\n",
       "      <td>35.919460</td>\n",
       "      <td>74450596</td>\n",
       "      <td>0.0</td>\n",
       "      <td>1.0</td>\n",
       "    </tr>\n",
       "    <tr>\n",
       "      <th>1</th>\n",
       "      <td>AAPL</td>\n",
       "      <td>2017-07-26 00:00:00+00:00</td>\n",
       "      <td>153.46</td>\n",
       "      <td>153.93</td>\n",
       "      <td>153.06</td>\n",
       "      <td>153.35</td>\n",
       "      <td>15172136</td>\n",
       "      <td>36.312255</td>\n",
       "      <td>36.423468</td>\n",
       "      <td>36.217605</td>\n",
       "      <td>36.286226</td>\n",
       "      <td>60688544</td>\n",
       "      <td>0.0</td>\n",
       "      <td>1.0</td>\n",
       "    </tr>\n",
       "    <tr>\n",
       "      <th>2</th>\n",
       "      <td>AAPL</td>\n",
       "      <td>2017-07-27 00:00:00+00:00</td>\n",
       "      <td>150.56</td>\n",
       "      <td>153.99</td>\n",
       "      <td>147.30</td>\n",
       "      <td>153.75</td>\n",
       "      <td>32175875</td>\n",
       "      <td>35.626046</td>\n",
       "      <td>36.437665</td>\n",
       "      <td>34.854653</td>\n",
       "      <td>36.380876</td>\n",
       "      <td>128703500</td>\n",
       "      <td>0.0</td>\n",
       "      <td>1.0</td>\n",
       "    </tr>\n",
       "    <tr>\n",
       "      <th>3</th>\n",
       "      <td>AAPL</td>\n",
       "      <td>2017-07-28 00:00:00+00:00</td>\n",
       "      <td>149.50</td>\n",
       "      <td>150.23</td>\n",
       "      <td>149.19</td>\n",
       "      <td>149.89</td>\n",
       "      <td>16832947</td>\n",
       "      <td>35.375225</td>\n",
       "      <td>35.547961</td>\n",
       "      <td>35.301872</td>\n",
       "      <td>35.467509</td>\n",
       "      <td>67331788</td>\n",
       "      <td>0.0</td>\n",
       "      <td>1.0</td>\n",
       "    </tr>\n",
       "    <tr>\n",
       "      <th>4</th>\n",
       "      <td>AAPL</td>\n",
       "      <td>2017-07-31 00:00:00+00:00</td>\n",
       "      <td>148.73</td>\n",
       "      <td>150.33</td>\n",
       "      <td>148.13</td>\n",
       "      <td>149.90</td>\n",
       "      <td>19422655</td>\n",
       "      <td>35.193025</td>\n",
       "      <td>35.571623</td>\n",
       "      <td>35.051051</td>\n",
       "      <td>35.469875</td>\n",
       "      <td>77690620</td>\n",
       "      <td>0.0</td>\n",
       "      <td>1.0</td>\n",
       "    </tr>\n",
       "  </tbody>\n",
       "</table>\n",
       "</div>"
      ],
      "text/plain": [
       "  symbol                       date   close    high     low    open    volume  \\\n",
       "0   AAPL  2017-07-25 00:00:00+00:00  152.74  153.84  151.80  151.80  18612649   \n",
       "1   AAPL  2017-07-26 00:00:00+00:00  153.46  153.93  153.06  153.35  15172136   \n",
       "2   AAPL  2017-07-27 00:00:00+00:00  150.56  153.99  147.30  153.75  32175875   \n",
       "3   AAPL  2017-07-28 00:00:00+00:00  149.50  150.23  149.19  149.89  16832947   \n",
       "4   AAPL  2017-07-31 00:00:00+00:00  148.73  150.33  148.13  149.90  19422655   \n",
       "\n",
       "    adjClose    adjHigh     adjLow    adjOpen  adjVolume  divCash  splitFactor  \n",
       "0  36.141886  36.402172  35.919460  35.919460   74450596      0.0          1.0  \n",
       "1  36.312255  36.423468  36.217605  36.286226   60688544      0.0          1.0  \n",
       "2  35.626046  36.437665  34.854653  36.380876  128703500      0.0          1.0  \n",
       "3  35.375225  35.547961  35.301872  35.467509   67331788      0.0          1.0  \n",
       "4  35.193025  35.571623  35.051051  35.469875   77690620      0.0          1.0  "
      ]
     },
     "execution_count": 13,
     "metadata": {},
     "output_type": "execute_result"
    }
   ],
   "source": [
    "df.head()"
   ]
  },
  {
   "cell_type": "code",
   "execution_count": 14,
   "metadata": {},
   "outputs": [],
   "source": [
    "df1=df.reset_index()['close']"
   ]
  },
  {
   "cell_type": "code",
   "execution_count": 15,
   "metadata": {},
   "outputs": [
    {
     "data": {
      "text/plain": [
       "0       152.74\n",
       "1       153.46\n",
       "2       150.56\n",
       "3       149.50\n",
       "4       148.73\n",
       "         ...  \n",
       "1253    147.07\n",
       "1254    151.00\n",
       "1255    153.04\n",
       "1256    155.35\n",
       "1257    154.09\n",
       "Name: close, Length: 1258, dtype: float64"
      ]
     },
     "execution_count": 15,
     "metadata": {},
     "output_type": "execute_result"
    }
   ],
   "source": [
    "df1"
   ]
  },
  {
   "cell_type": "code",
   "execution_count": 16,
   "metadata": {},
   "outputs": [
    {
     "data": {
      "text/plain": [
       "[<matplotlib.lines.Line2D at 0x213f4b37490>]"
      ]
     },
     "execution_count": 16,
     "metadata": {},
     "output_type": "execute_result"
    },
    {
     "data": {
      "image/png": "[encoded data removed]",
      "text/plain": [
       "<Figure size 432x288 with 1 Axes>"
      ]
     },
     "metadata": {
      "needs_background": "light"
     },
     "output_type": "display_data"
    }
   ],
   "source": [
    "import matplotlib.pyplot as plt\n",
    "plt.plot(df1)"
   ]
  },
  {
   "cell_type": "code",
   "execution_count": null,
   "metadata": {},
   "outputs": [],
   "source": [
    "### LSTM are sensitive to the scale of the data. so we apply MinMax scaler "
   ]
  },
  {
   "cell_type": "code",
   "execution_count": 18,
   "metadata": {},
   "outputs": [],
   "source": [
    "from sklearn.preprocessing import MinMaxScaler\n",
    "scaler=MinMaxScaler(feature_range=(0,1))\n",
    "df1=scaler.fit_transform(np.array(df1).reshape(-1,1))"
   ]
  },
  {
   "cell_type": "code",
   "execution_count": 19,
   "metadata": {},
   "outputs": [
    {
     "data": {
      "text/plain": [
       "array([[0.11496556],\n",
       "       [0.11676894],\n",
       "       [0.10950532],\n",
       "       ...,\n",
       "       [0.11571697],\n",
       "       [0.12150282],\n",
       "       [0.1183469 ]])"
      ]
     },
     "execution_count": 19,
     "metadata": {},
     "output_type": "execute_result"
    }
   ],
   "source": [
    "df1"
   ]
  },
  {
   "cell_type": "code",
   "execution_count": 28,
   "metadata": {},
   "outputs": [],
   "source": [
    "training_size=int(len(df1)*0.65)\n",
    "test_size=len(df1)-training_size\n",
    "train_data,test_data=df1[0:training_size,:],df1[training_size:len(df1),:1]"
   ]
  },
  {
   "cell_type": "code",
   "execution_count": 29,
   "metadata": {},
   "outputs": [
    {
     "data": {
      "text/plain": [
       "(817, 441)"
      ]
     },
     "execution_count": 29,
     "metadata": {},
     "output_type": "execute_result"
    }
   ],
   "source": [
    "training_size,test_size"
   ]
  },
  {
   "cell_type": "code",
   "execution_count": 32,
   "metadata": {},
   "outputs": [],
   "source": [
    "def create_dataset(dataset, time_step=1):\n",
    "# convert an array of values into a dataset matrix\n",
    "\tdataX, dataY = [], []\n",
    "\tfor i in range(len(dataset)-time_step-1):\n",
    "\t\ta = dataset[i:(i+time_step), 0]   ###i=0, 0,1,2,3-----99   100 \n",
    "\t\tdataX.append(a)\n",
    "\t\tdataY.append(dataset[i + time_step, 0])\n",
    "\treturn np.array(dataX), np.array(dataY)"
   ]
  },
  {
   "cell_type": "code",
   "execution_count": 36,
   "metadata": {},
   "outputs": [],
   "source": [
    "# reshape into X=t,t+1,t+2,t+3 and Y=t+4\n",
    "time_step = 100\n",
    "X_train, y_train = create_dataset(train_data, time_step)\n",
    "X_test, y_test = create_dataset(test_data, time_step)"
   ]
  },
  {
   "cell_type": "code",
   "execution_count": 37,
   "metadata": {},
   "outputs": [
    {
     "name": "stdout",
     "output_type": "stream",
     "text": [
      "(716, 100)\n",
      "(716,)\n"
     ]
    },
    {
     "data": {
      "text/plain": [
       "(None, None)"
      ]
     },
     "execution_count": 37,
     "metadata": {},
     "output_type": "execute_result"
    }
   ],
   "source": [
    "print(X_train.shape), print(y_train.shape)"
   ]
  },
  {
   "cell_type": "code",
   "execution_count": 38,
   "metadata": {},
   "outputs": [
    {
     "name": "stdout",
     "output_type": "stream",
     "text": [
      "(340, 100)\n",
      "(340,)\n"
     ]
    },
    {
     "data": {
      "text/plain": [
       "(None, None)"
      ]
     },
     "execution_count": 38,
     "metadata": {},
     "output_type": "execute_result"
    }
   ],
   "source": [
    "print(X_test.shape),print(y_test.shape)"
   ]
  },
  {
   "cell_type": "code",
   "execution_count": 40,
   "metadata": {},
   "outputs": [],
   "source": [
    "# reshape input to be [samples, time steps, features] which is required for LSTM\n",
    "X_train =X_train.reshape(X_train.shape[0],X_train.shape[1] , 1)\n",
    "X_test = X_test.reshape(X_test.shape[0],X_test.shape[1] , 1)"
   ]
  },
  {
   "cell_type": "code",
   "execution_count": 41,
   "metadata": {},
   "outputs": [],
   "source": [
    "### Create the Stacked LSTM model\n",
    "from tensorflow.keras.models import Sequential\n",
    "from tensorflow.keras.layers import Dense\n",
    "from tensorflow.keras.layers import LSTM"
   ]
  },
  {
   "cell_type": "code",
   "execution_count": 42,
   "metadata": {},
   "outputs": [],
   "source": [
    "model=Sequential()\n",
    "model.add(LSTM(50,return_sequences=True,input_shape=(100,1)))\n",
    "model.add(LSTM(50,return_sequences=True))\n",
    "model.add(LSTM(50))\n",
    "model.add(Dense(1))\n",
    "model.compile(loss='mean_squared_error',optimizer='adam')"
   ]
  },
  {
   "cell_type": "code",
   "execution_count": 43,
   "metadata": {},
   "outputs": [
    {
     "name": "stdout",
     "output_type": "stream",
     "text": [
      "Model: \"sequential\"\n",
      "_________________________________________________________________\n",
      " Layer (type)                Output Shape              Param #   \n",
      "=================================================================\n",
      " lstm (LSTM)                 (None, 100, 50)           10400     \n",
      "                                                                 \n",
      " lstm_1 (LSTM)               (None, 100, 50)           20200     \n",
      "                                                                 \n",
      " lstm_2 (LSTM)               (None, 50)                20200     \n",
      "                                                                 \n",
      " dense (Dense)               (None, 1)                 51        \n",
      "                                                                 \n",
      "=================================================================\n",
      "Total params: 50,851\n",
      "Trainable params: 50,851\n",
      "Non-trainable params: 0\n",
      "_________________________________________________________________\n"
     ]
    }
   ],
   "source": [
    "model.summary()"
   ]
  },
  {
   "cell_type": "code",
   "execution_count": 44,
   "metadata": {},
   "outputs": [
    {
     "name": "stdout",
     "output_type": "stream",
     "text": [
      "Epoch 1/100\n",
      "12/12 [==============================] - 6s 201ms/step - loss: 0.0533 - val_loss: 0.0114\n",
      "Epoch 2/100\n",
      "12/12 [==============================] - 1s 121ms/step - loss: 0.0144 - val_loss: 0.0087\n",
      "Epoch 3/100\n",
      "12/12 [==============================] - 1s 120ms/step - loss: 0.0116 - val_loss: 4.0488e-04\n",
      "Epoch 4/100\n",
      "12/12 [==============================] - 1s 122ms/step - loss: 0.0113 - val_loss: 0.0036\n",
      "Epoch 5/100\n",
      "12/12 [==============================] - 2s 131ms/step - loss: 0.0102 - val_loss: 0.0038\n",
      "Epoch 6/100\n",
      "12/12 [==============================] - 1s 121ms/step - loss: 0.0087 - val_loss: 0.0010\n",
      "Epoch 7/100\n",
      "12/12 [==============================] - 1s 121ms/step - loss: 0.0071 - val_loss: 2.3988e-04\n",
      "Epoch 8/100\n",
      "12/12 [==============================] - 1s 111ms/step - loss: 0.0064 - val_loss: 9.3726e-04\n",
      "Epoch 9/100\n",
      "12/12 [==============================] - 1s 111ms/step - loss: 0.0058 - val_loss: 6.9343e-04\n",
      "Epoch 10/100\n",
      "12/12 [==============================] - 1s 115ms/step - loss: 0.0051 - val_loss: 2.3363e-04\n",
      "Epoch 11/100\n",
      "12/12 [==============================] - 2s 132ms/step - loss: 0.0047 - val_loss: 2.7309e-04\n",
      "Epoch 12/100\n",
      "12/12 [==============================] - 1s 120ms/step - loss: 0.0041 - val_loss: 3.6535e-04\n",
      "Epoch 13/100\n",
      "12/12 [==============================] - 1s 118ms/step - loss: 0.0037 - val_loss: 5.3190e-04\n",
      "Epoch 14/100\n",
      "12/12 [==============================] - 1s 111ms/step - loss: 0.0045 - val_loss: 2.4498e-04\n",
      "Epoch 15/100\n",
      "12/12 [==============================] - 1s 120ms/step - loss: 0.0039 - val_loss: 5.0055e-04\n",
      "Epoch 16/100\n",
      "12/12 [==============================] - 2s 162ms/step - loss: 0.0037 - val_loss: 2.1467e-04\n",
      "Epoch 17/100\n",
      "12/12 [==============================] - 2s 159ms/step - loss: 0.0033 - val_loss: 3.0105e-04\n",
      "Epoch 18/100\n",
      "12/12 [==============================] - 2s 143ms/step - loss: 0.0034 - val_loss: 2.6738e-04\n",
      "Epoch 19/100\n",
      "12/12 [==============================] - 2s 144ms/step - loss: 0.0032 - val_loss: 2.3029e-04\n",
      "Epoch 20/100\n",
      "12/12 [==============================] - 2s 131ms/step - loss: 0.0032 - val_loss: 3.2719e-04\n",
      "Epoch 21/100\n",
      "12/12 [==============================] - 1s 123ms/step - loss: 0.0026 - val_loss: 2.3305e-04\n",
      "Epoch 22/100\n",
      "12/12 [==============================] - 2s 143ms/step - loss: 0.0043 - val_loss: 4.5702e-04\n",
      "Epoch 23/100\n",
      "12/12 [==============================] - 2s 145ms/step - loss: 0.0039 - val_loss: 3.6639e-04\n",
      "Epoch 24/100\n",
      "12/12 [==============================] - 2s 129ms/step - loss: 0.0030 - val_loss: 2.3207e-04\n",
      "Epoch 25/100\n",
      "12/12 [==============================] - 1s 125ms/step - loss: 0.0022 - val_loss: 5.1534e-04\n",
      "Epoch 26/100\n",
      "12/12 [==============================] - 1s 123ms/step - loss: 0.0059 - val_loss: 1.8618e-04\n",
      "Epoch 27/100\n",
      "12/12 [==============================] - 2s 132ms/step - loss: 0.0046 - val_loss: 1.8763e-04\n",
      "Epoch 28/100\n",
      "12/12 [==============================] - 1s 120ms/step - loss: 0.0033 - val_loss: 3.1653e-04\n",
      "Epoch 29/100\n",
      "12/12 [==============================] - 2s 128ms/step - loss: 0.0032 - val_loss: 3.8097e-04\n",
      "Epoch 30/100\n",
      "12/12 [==============================] - 2s 155ms/step - loss: 0.0028 - val_loss: 3.4620e-04\n",
      "Epoch 31/100\n",
      "12/12 [==============================] - 2s 134ms/step - loss: 0.0023 - val_loss: 2.1078e-04\n",
      "Epoch 32/100\n",
      "12/12 [==============================] - 1s 123ms/step - loss: 0.0023 - val_loss: 2.4273e-04\n",
      "Epoch 33/100\n",
      "12/12 [==============================] - 1s 125ms/step - loss: 0.0022 - val_loss: 2.7357e-04\n",
      "Epoch 34/100\n",
      "12/12 [==============================] - 1s 122ms/step - loss: 0.0024 - val_loss: 1.8122e-04\n",
      "Epoch 35/100\n",
      "12/12 [==============================] - 1s 123ms/step - loss: 0.0021 - val_loss: 2.4935e-04\n",
      "Epoch 36/100\n",
      "12/12 [==============================] - 2s 127ms/step - loss: 0.0020 - val_loss: 2.0569e-04\n",
      "Epoch 37/100\n",
      "12/12 [==============================] - 1s 124ms/step - loss: 0.0021 - val_loss: 1.8465e-04\n",
      "Epoch 38/100\n",
      "12/12 [==============================] - 2s 129ms/step - loss: 0.0048 - val_loss: 3.1445e-04\n",
      "Epoch 39/100\n",
      "12/12 [==============================] - 2s 126ms/step - loss: 0.0031 - val_loss: 2.3880e-04\n",
      "Epoch 40/100\n",
      "12/12 [==============================] - 1s 122ms/step - loss: 0.0028 - val_loss: 2.7012e-04\n",
      "Epoch 41/100\n",
      "12/12 [==============================] - 1s 125ms/step - loss: 0.0026 - val_loss: 2.1437e-04\n",
      "Epoch 42/100\n",
      "12/12 [==============================] - 1s 123ms/step - loss: 0.0023 - val_loss: 1.8603e-04\n",
      "Epoch 43/100\n",
      "12/12 [==============================] - 1s 122ms/step - loss: 0.0021 - val_loss: 1.7803e-04\n",
      "Epoch 44/100\n",
      "12/12 [==============================] - 1s 124ms/step - loss: 0.0021 - val_loss: 2.5782e-04\n",
      "Epoch 45/100\n",
      "12/12 [==============================] - 1s 124ms/step - loss: 0.0019 - val_loss: 1.7666e-04\n",
      "Epoch 46/100\n",
      "12/12 [==============================] - 1s 123ms/step - loss: 0.0020 - val_loss: 2.9453e-04\n",
      "Epoch 47/100\n",
      "12/12 [==============================] - 1s 124ms/step - loss: 0.0019 - val_loss: 1.8080e-04\n",
      "Epoch 48/100\n",
      "12/12 [==============================] - 2s 128ms/step - loss: 0.0018 - val_loss: 1.8219e-04\n",
      "Epoch 49/100\n",
      "12/12 [==============================] - 2s 128ms/step - loss: 0.0017 - val_loss: 2.0531e-04\n",
      "Epoch 50/100\n",
      "12/12 [==============================] - 2s 135ms/step - loss: 0.0018 - val_loss: 2.0628e-04\n",
      "Epoch 51/100\n",
      "12/12 [==============================] - 1s 124ms/step - loss: 0.0022 - val_loss: 1.8109e-04\n",
      "Epoch 52/100\n",
      "12/12 [==============================] - 1s 124ms/step - loss: 0.0020 - val_loss: 5.7390e-04\n",
      "Epoch 53/100\n",
      "12/12 [==============================] - 2s 131ms/step - loss: 0.0021 - val_loss: 1.9244e-04\n",
      "Epoch 54/100\n",
      "12/12 [==============================] - 1s 123ms/step - loss: 0.0021 - val_loss: 6.0540e-04\n",
      "Epoch 55/100\n",
      "12/12 [==============================] - 2s 133ms/step - loss: 0.0019 - val_loss: 1.9073e-04\n",
      "Epoch 56/100\n",
      "12/12 [==============================] - 1s 123ms/step - loss: 0.0018 - val_loss: 2.3798e-04\n",
      "Epoch 57/100\n",
      "12/12 [==============================] - 2s 128ms/step - loss: 0.0017 - val_loss: 2.0403e-04\n",
      "Epoch 58/100\n",
      "12/12 [==============================] - 1s 126ms/step - loss: 0.0023 - val_loss: 3.5571e-04\n",
      "Epoch 59/100\n",
      "12/12 [==============================] - 1s 123ms/step - loss: 0.0015 - val_loss: 2.9452e-04\n",
      "Epoch 60/100\n",
      "12/12 [==============================] - 2s 130ms/step - loss: 0.0018 - val_loss: 1.8487e-04\n",
      "Epoch 61/100\n",
      "12/12 [==============================] - 1s 120ms/step - loss: 0.0019 - val_loss: 2.3564e-04\n",
      "Epoch 62/100\n",
      "12/12 [==============================] - 1s 122ms/step - loss: 0.0018 - val_loss: 2.1182e-04\n",
      "Epoch 63/100\n",
      "12/12 [==============================] - 1s 119ms/step - loss: 0.0015 - val_loss: 4.8148e-04\n",
      "Epoch 64/100\n",
      "12/12 [==============================] - 1s 120ms/step - loss: 0.0015 - val_loss: 2.3610e-04\n",
      "Epoch 65/100\n",
      "12/12 [==============================] - 1s 121ms/step - loss: 0.0019 - val_loss: 2.0391e-04\n",
      "Epoch 66/100\n",
      "12/12 [==============================] - 1s 120ms/step - loss: 0.0017 - val_loss: 3.6995e-04\n",
      "Epoch 67/100\n",
      "12/12 [==============================] - 2s 129ms/step - loss: 0.0015 - val_loss: 2.4283e-04\n",
      "Epoch 68/100\n",
      "12/12 [==============================] - 1s 120ms/step - loss: 0.0014 - val_loss: 2.7867e-04\n",
      "Epoch 69/100\n",
      "12/12 [==============================] - 1s 125ms/step - loss: 0.0012 - val_loss: 2.3775e-04\n",
      "Epoch 70/100\n",
      "12/12 [==============================] - 2s 139ms/step - loss: 0.0020 - val_loss: 5.2167e-04\n",
      "Epoch 71/100\n",
      "12/12 [==============================] - 1s 120ms/step - loss: 0.0015 - val_loss: 1.9537e-04\n",
      "Epoch 72/100\n",
      "12/12 [==============================] - 1s 120ms/step - loss: 0.0040 - val_loss: 0.0018\n",
      "Epoch 73/100\n",
      "12/12 [==============================] - 1s 121ms/step - loss: 0.0029 - val_loss: 2.6144e-04\n",
      "Epoch 74/100\n",
      "12/12 [==============================] - 1s 122ms/step - loss: 0.0021 - val_loss: 1.7374e-04\n",
      "Epoch 75/100\n",
      "12/12 [==============================] - 2s 135ms/step - loss: 0.0017 - val_loss: 1.7735e-04\n",
      "Epoch 76/100\n",
      "12/12 [==============================] - 1s 120ms/step - loss: 0.0015 - val_loss: 2.2898e-04\n",
      "Epoch 77/100\n",
      "12/12 [==============================] - 1s 121ms/step - loss: 0.0017 - val_loss: 2.0228e-04\n",
      "Epoch 78/100\n"
     ]
    },
    {
     "name": "stdout",
     "output_type": "stream",
     "text": [
      "12/12 [==============================] - 1s 120ms/step - loss: 0.0014 - val_loss: 2.5440e-04\n",
      "Epoch 79/100\n",
      "12/12 [==============================] - 1s 127ms/step - loss: 0.0019 - val_loss: 1.7625e-04\n",
      "Epoch 80/100\n",
      "12/12 [==============================] - 1s 122ms/step - loss: 0.0017 - val_loss: 5.0873e-04\n",
      "Epoch 81/100\n",
      "12/12 [==============================] - 1s 120ms/step - loss: 0.0014 - val_loss: 3.5419e-04\n",
      "Epoch 82/100\n",
      "12/12 [==============================] - 2s 126ms/step - loss: 0.0013 - val_loss: 1.9320e-04\n",
      "Epoch 83/100\n",
      "12/12 [==============================] - 1s 121ms/step - loss: 0.0023 - val_loss: 3.6101e-04\n",
      "Epoch 84/100\n",
      "12/12 [==============================] - 1s 118ms/step - loss: 0.0024 - val_loss: 1.8533e-04\n",
      "Epoch 85/100\n",
      "12/12 [==============================] - 1s 121ms/step - loss: 0.0022 - val_loss: 2.8472e-04\n",
      "Epoch 86/100\n",
      "12/12 [==============================] - 1s 120ms/step - loss: 0.0018 - val_loss: 2.4289e-04\n",
      "Epoch 87/100\n",
      "12/12 [==============================] - 1s 121ms/step - loss: 0.0013 - val_loss: 1.8134e-04\n",
      "Epoch 88/100\n",
      "12/12 [==============================] - 1s 121ms/step - loss: 0.0013 - val_loss: 3.1857e-04\n",
      "Epoch 89/100\n",
      "12/12 [==============================] - 2s 158ms/step - loss: 0.0016 - val_loss: 1.8765e-04\n",
      "Epoch 90/100\n",
      "12/12 [==============================] - 2s 142ms/step - loss: 0.0015 - val_loss: 1.8901e-04\n",
      "Epoch 91/100\n",
      "12/12 [==============================] - 2s 127ms/step - loss: 0.0022 - val_loss: 2.7779e-04\n",
      "Epoch 92/100\n",
      "12/12 [==============================] - 1s 120ms/step - loss: 0.0022 - val_loss: 2.3912e-04\n",
      "Epoch 93/100\n",
      "12/12 [==============================] - 1s 121ms/step - loss: 0.0026 - val_loss: 4.6586e-04\n",
      "Epoch 94/100\n",
      "12/12 [==============================] - 1s 126ms/step - loss: 0.0041 - val_loss: 0.0020\n",
      "Epoch 95/100\n",
      "12/12 [==============================] - 1s 124ms/step - loss: 0.0025 - val_loss: 4.3057e-04\n",
      "Epoch 96/100\n",
      "12/12 [==============================] - 2s 131ms/step - loss: 0.0018 - val_loss: 5.2278e-04\n",
      "Epoch 97/100\n",
      "12/12 [==============================] - 2s 126ms/step - loss: 0.0021 - val_loss: 1.6574e-04\n",
      "Epoch 98/100\n",
      "12/12 [==============================] - 2s 134ms/step - loss: 0.0015 - val_loss: 1.7733e-04\n",
      "Epoch 99/100\n",
      "12/12 [==============================] - 2s 135ms/step - loss: 0.0019 - val_loss: 3.2964e-04\n",
      "Epoch 100/100\n",
      "12/12 [==============================] - 2s 156ms/step - loss: 0.0015 - val_loss: 2.0342e-04\n"
     ]
    },
    {
     "data": {
      "text/plain": [
       "<keras.callbacks.History at 0x213ff31e9d0>"
      ]
     },
     "execution_count": 44,
     "metadata": {},
     "output_type": "execute_result"
    }
   ],
   "source": [
    "model.fit(X_train,y_train,validation_data=(X_test,ytest),epochs=100,batch_size=64,verbose=1)"
   ]
  },
  {
   "cell_type": "code",
   "execution_count": 46,
   "metadata": {},
   "outputs": [],
   "source": [
    "import tensorflow as tf"
   ]
  },
  {
   "cell_type": "code",
   "execution_count": 47,
   "metadata": {},
   "outputs": [],
   "source": [
    "### Lets Do the prediction and check performance metrics\n",
    "train_predict=model.predict(X_train)\n",
    "test_predict=model.predict(X_test)"
   ]
  },
  {
   "cell_type": "code",
   "execution_count": 48,
   "metadata": {},
   "outputs": [],
   "source": [
    "##Transformback to original form\n",
    "train_predict=scaler.inverse_transform(train_predict)\n",
    "test_predict=scaler.inverse_transform(test_predict)"
   ]
  },
  {
   "cell_type": "code",
   "execution_count": 51,
   "metadata": {},
   "outputs": [
    {
     "data": {
      "text/plain": [
       "234.34274182343123"
      ]
     },
     "execution_count": 51,
     "metadata": {},
     "output_type": "execute_result"
    }
   ],
   "source": [
    "### Calculate RMSE performance metrics\n",
    "import math\n",
    "from sklearn.metrics import mean_squared_error\n",
    "math.sqrt(mean_squared_error(y_train,train_predict))"
   ]
  },
  {
   "cell_type": "code",
   "execution_count": 50,
   "metadata": {},
   "outputs": [
    {
     "data": {
      "text/plain": [
       "152.76686093981672"
      ]
     },
     "execution_count": 50,
     "metadata": {},
     "output_type": "execute_result"
    }
   ],
   "source": [
    "math.sqrt(mean_squared_error(ytest,test_predict))"
   ]
  },
  {
   "cell_type": "code",
   "execution_count": 53,
   "metadata": {},
   "outputs": [
    {
     "data": {
      "image/png": "[encoded data removed]",
      "text/plain": [
       "<Figure size 432x288 with 1 Axes>"
      ]
     },
     "metadata": {
      "needs_background": "light"
     },
     "output_type": "display_data"
    }
   ],
   "source": [
    "### Plotting \n",
    "# shift train predictions for plotting\n",
    "look_back=100\n",
    "trainPredictPlot = np.empty_like(df1)\n",
    "trainPredictPlot[:, :] = np.nan\n",
    "trainPredictPlot[look_back:len(train_predict)+look_back, :] = train_predict\n",
    "# shift test predictions for plotting\n",
    "testPredictPlot = np.empty_like(df1)\n",
    "testPredictPlot[:, :] = np.nan\n",
    "testPredictPlot[len(train_predict)+(look_back*2)+1:len(df1)-1, :] = test_predict\n",
    "# plot baseline and predictions\n",
    "plt.plot(scaler.inverse_transform(df1))\n",
    "plt.plot(trainPredictPlot)\n",
    "plt.plot(testPredictPlot)\n",
    "plt.show()"
   ]
  },
  {
   "cell_type": "code",
   "execution_count": 54,
   "metadata": {},
   "outputs": [
    {
     "data": {
      "text/plain": [
       "441"
      ]
     },
     "execution_count": 54,
     "metadata": {},
     "output_type": "execute_result"
    }
   ],
   "source": [
    "len(test_data)"
   ]
  },
  {
   "cell_type": "code",
   "execution_count": 57,
   "metadata": {},
   "outputs": [
    {
     "data": {
      "text/plain": [
       "(1, 100)"
      ]
     },
     "execution_count": 57,
     "metadata": {},
     "output_type": "execute_result"
    }
   ],
   "source": [
    "x_input=test_data[len(test_data)-time_step:].reshape(1,-1)\n",
    "x_input.shape"
   ]
  },
  {
   "cell_type": "code",
   "execution_count": 58,
   "metadata": {},
   "outputs": [],
   "source": [
    "temp_input=list(x_input)\n",
    "temp_input=temp_input[0].tolist()"
   ]
  },
  {
   "cell_type": "code",
   "execution_count": 61,
   "metadata": {},
   "outputs": [
    {
     "name": "stdout",
     "output_type": "stream",
     "text": [
      "0 day input [0.1208516  0.13212273 0.13470257 0.14311835 0.14662492 0.15524108\n",
      " 0.1587226  0.16839073 0.17001879 0.17222292 0.1806387  0.17765811\n",
      " 0.16974327 0.16899186 0.17933626 0.17087038 0.16278021 0.16355667\n",
      " 0.15842204 0.14755166 0.15233563 0.1591985  0.1463995  0.14584847\n",
      " 0.15168441 0.15125861 0.14922981 0.13763306 0.14036318 0.12513463\n",
      " 0.12455855 0.14226675 0.12726362 0.12804008 0.13184721 0.14822793\n",
      " 0.12505949 0.12633688 0.11326237 0.11939887 0.09933626 0.08946775\n",
      " 0.10086412 0.09693175 0.10619912 0.08510958 0.07641828 0.07701941\n",
      " 0.09084534 0.08395742 0.08435817 0.09252348 0.107201   0.10519724\n",
      " 0.10487163 0.11113338 0.096531   0.09843456 0.10487163 0.10299311\n",
      " 0.08966813 0.07586725 0.0627176  0.06492173 0.07160927 0.05815905\n",
      " 0.06191609 0.07271133 0.07140889 0.0787226  0.08721353 0.08721353\n",
      " 0.07664371 0.08112711 0.07484033 0.0803757  0.08696306 0.09036944\n",
      " 0.09896055 0.10068879 0.0952536  0.09773325 0.09680651 0.10427051\n",
      " 0.10852849 0.10076393 0.11060739 0.11571697 0.12150282 0.1183469\n",
      " 0.11446747 0.11663249 0.11843465 0.11995181 0.12127438 0.12247214\n",
      " 0.12359054 0.12465639 0.12568465 0.12668364]\n",
      "0 day output [[0.12765826]]\n",
      "1 day input [0.13212273 0.13470257 0.14311835 0.14662492 0.15524108 0.1587226\n",
      " 0.16839073 0.17001879 0.17222292 0.1806387  0.17765811 0.16974327\n",
      " 0.16899186 0.17933626 0.17087038 0.16278021 0.16355667 0.15842204\n",
      " 0.14755166 0.15233563 0.1591985  0.1463995  0.14584847 0.15168441\n",
      " 0.15125861 0.14922981 0.13763306 0.14036318 0.12513463 0.12455855\n",
      " 0.14226675 0.12726362 0.12804008 0.13184721 0.14822793 0.12505949\n",
      " 0.12633688 0.11326237 0.11939887 0.09933626 0.08946775 0.10086412\n",
      " 0.09693175 0.10619912 0.08510958 0.07641828 0.07701941 0.09084534\n",
      " 0.08395742 0.08435817 0.09252348 0.107201   0.10519724 0.10487163\n",
      " 0.11113338 0.096531   0.09843456 0.10487163 0.10299311 0.08966813\n",
      " 0.07586725 0.0627176  0.06492173 0.07160927 0.05815905 0.06191609\n",
      " 0.07271133 0.07140889 0.0787226  0.08721353 0.08721353 0.07664371\n",
      " 0.08112711 0.07484033 0.0803757  0.08696306 0.09036944 0.09896055\n",
      " 0.10068879 0.0952536  0.09773325 0.09680651 0.10427051 0.10852849\n",
      " 0.10076393 0.11060739 0.11571697 0.12150282 0.1183469  0.11446747\n",
      " 0.11663249 0.11843465 0.11995181 0.12127438 0.12247214 0.12359054\n",
      " 0.12465639 0.12568465 0.12668364 0.12765826]\n",
      "1 day output [[0.12861177]]\n",
      "2 day input [0.13470257 0.14311835 0.14662492 0.15524108 0.1587226  0.16839073\n",
      " 0.17001879 0.17222292 0.1806387  0.17765811 0.16974327 0.16899186\n",
      " 0.17933626 0.17087038 0.16278021 0.16355667 0.15842204 0.14755166\n",
      " 0.15233563 0.1591985  0.1463995  0.14584847 0.15168441 0.15125861\n",
      " 0.14922981 0.13763306 0.14036318 0.12513463 0.12455855 0.14226675\n",
      " 0.12726362 0.12804008 0.13184721 0.14822793 0.12505949 0.12633688\n",
      " 0.11326237 0.11939887 0.09933626 0.08946775 0.10086412 0.09693175\n",
      " 0.10619912 0.08510958 0.07641828 0.07701941 0.09084534 0.08395742\n",
      " 0.08435817 0.09252348 0.107201   0.10519724 0.10487163 0.11113338\n",
      " 0.096531   0.09843456 0.10487163 0.10299311 0.08966813 0.07586725\n",
      " 0.0627176  0.06492173 0.07160927 0.05815905 0.06191609 0.07271133\n",
      " 0.07140889 0.0787226  0.08721353 0.08721353 0.07664371 0.08112711\n",
      " 0.07484033 0.0803757  0.08696306 0.09036944 0.09896055 0.10068879\n",
      " 0.0952536  0.09773325 0.09680651 0.10427051 0.10852849 0.10076393\n",
      " 0.11060739 0.11571697 0.12150282 0.1183469  0.11446747 0.11663249\n",
      " 0.11843465 0.11995181 0.12127438 0.12247214 0.12359054 0.12465639\n",
      " 0.12568465 0.12668364 0.12765826 0.12861177]\n",
      "2 day output [[0.12954666]]\n",
      "3 day input [0.14311835 0.14662492 0.15524108 0.1587226  0.16839073 0.17001879\n",
      " 0.17222292 0.1806387  0.17765811 0.16974327 0.16899186 0.17933626\n",
      " 0.17087038 0.16278021 0.16355667 0.15842204 0.14755166 0.15233563\n",
      " 0.1591985  0.1463995  0.14584847 0.15168441 0.15125861 0.14922981\n",
      " 0.13763306 0.14036318 0.12513463 0.12455855 0.14226675 0.12726362\n",
      " 0.12804008 0.13184721 0.14822793 0.12505949 0.12633688 0.11326237\n",
      " 0.11939887 0.09933626 0.08946775 0.10086412 0.09693175 0.10619912\n",
      " 0.08510958 0.07641828 0.07701941 0.09084534 0.08395742 0.08435817\n",
      " 0.09252348 0.107201   0.10519724 0.10487163 0.11113338 0.096531\n",
      " 0.09843456 0.10487163 0.10299311 0.08966813 0.07586725 0.0627176\n",
      " 0.06492173 0.07160927 0.05815905 0.06191609 0.07271133 0.07140889\n",
      " 0.0787226  0.08721353 0.08721353 0.07664371 0.08112711 0.07484033\n",
      " 0.0803757  0.08696306 0.09036944 0.09896055 0.10068879 0.0952536\n",
      " 0.09773325 0.09680651 0.10427051 0.10852849 0.10076393 0.11060739\n",
      " 0.11571697 0.12150282 0.1183469  0.11446747 0.11663249 0.11843465\n",
      " 0.11995181 0.12127438 0.12247214 0.12359054 0.12465639 0.12568465\n",
      " 0.12668364 0.12765826 0.12861177 0.12954666]\n",
      "3 day output [[0.13046494]]\n",
      "4 day input [0.14662492 0.15524108 0.1587226  0.16839073 0.17001879 0.17222292\n",
      " 0.1806387  0.17765811 0.16974327 0.16899186 0.17933626 0.17087038\n",
      " 0.16278021 0.16355667 0.15842204 0.14755166 0.15233563 0.1591985\n",
      " 0.1463995  0.14584847 0.15168441 0.15125861 0.14922981 0.13763306\n",
      " 0.14036318 0.12513463 0.12455855 0.14226675 0.12726362 0.12804008\n",
      " 0.13184721 0.14822793 0.12505949 0.12633688 0.11326237 0.11939887\n",
      " 0.09933626 0.08946775 0.10086412 0.09693175 0.10619912 0.08510958\n",
      " 0.07641828 0.07701941 0.09084534 0.08395742 0.08435817 0.09252348\n",
      " 0.107201   0.10519724 0.10487163 0.11113338 0.096531   0.09843456\n",
      " 0.10487163 0.10299311 0.08966813 0.07586725 0.0627176  0.06492173\n",
      " 0.07160927 0.05815905 0.06191609 0.07271133 0.07140889 0.0787226\n",
      " 0.08721353 0.08721353 0.07664371 0.08112711 0.07484033 0.0803757\n",
      " 0.08696306 0.09036944 0.09896055 0.10068879 0.0952536  0.09773325\n",
      " 0.09680651 0.10427051 0.10852849 0.10076393 0.11060739 0.11571697\n",
      " 0.12150282 0.1183469  0.11446747 0.11663249 0.11843465 0.11995181\n",
      " 0.12127438 0.12247214 0.12359054 0.12465639 0.12568465 0.12668364\n",
      " 0.12765826 0.12861177 0.12954666 0.13046494]\n",
      "4 day output [[0.13136832]]\n",
      "5 day input [0.15524108 0.1587226  0.16839073 0.17001879 0.17222292 0.1806387\n",
      " 0.17765811 0.16974327 0.16899186 0.17933626 0.17087038 0.16278021\n",
      " 0.16355667 0.15842204 0.14755166 0.15233563 0.1591985  0.1463995\n",
      " 0.14584847 0.15168441 0.15125861 0.14922981 0.13763306 0.14036318\n",
      " 0.12513463 0.12455855 0.14226675 0.12726362 0.12804008 0.13184721\n",
      " 0.14822793 0.12505949 0.12633688 0.11326237 0.11939887 0.09933626\n",
      " 0.08946775 0.10086412 0.09693175 0.10619912 0.08510958 0.07641828\n",
      " 0.07701941 0.09084534 0.08395742 0.08435817 0.09252348 0.107201\n",
      " 0.10519724 0.10487163 0.11113338 0.096531   0.09843456 0.10487163\n",
      " 0.10299311 0.08966813 0.07586725 0.0627176  0.06492173 0.07160927\n",
      " 0.05815905 0.06191609 0.07271133 0.07140889 0.0787226  0.08721353\n",
      " 0.08721353 0.07664371 0.08112711 0.07484033 0.0803757  0.08696306\n",
      " 0.09036944 0.09896055 0.10068879 0.0952536  0.09773325 0.09680651\n",
      " 0.10427051 0.10852849 0.10076393 0.11060739 0.11571697 0.12150282\n",
      " 0.1183469  0.11446747 0.11663249 0.11843465 0.11995181 0.12127438\n",
      " 0.12247214 0.12359054 0.12465639 0.12568465 0.12668364 0.12765826\n",
      " 0.12861177 0.12954666 0.13046494 0.13136832]\n",
      "5 day output [[0.13225815]]\n",
      "6 day input [0.1587226  0.16839073 0.17001879 0.17222292 0.1806387  0.17765811\n",
      " 0.16974327 0.16899186 0.17933626 0.17087038 0.16278021 0.16355667\n",
      " 0.15842204 0.14755166 0.15233563 0.1591985  0.1463995  0.14584847\n",
      " 0.15168441 0.15125861 0.14922981 0.13763306 0.14036318 0.12513463\n",
      " 0.12455855 0.14226675 0.12726362 0.12804008 0.13184721 0.14822793\n",
      " 0.12505949 0.12633688 0.11326237 0.11939887 0.09933626 0.08946775\n",
      " 0.10086412 0.09693175 0.10619912 0.08510958 0.07641828 0.07701941\n",
      " 0.09084534 0.08395742 0.08435817 0.09252348 0.107201   0.10519724\n",
      " 0.10487163 0.11113338 0.096531   0.09843456 0.10487163 0.10299311\n",
      " 0.08966813 0.07586725 0.0627176  0.06492173 0.07160927 0.05815905\n",
      " 0.06191609 0.07271133 0.07140889 0.0787226  0.08721353 0.08721353\n",
      " 0.07664371 0.08112711 0.07484033 0.0803757  0.08696306 0.09036944\n",
      " 0.09896055 0.10068879 0.0952536  0.09773325 0.09680651 0.10427051\n",
      " 0.10852849 0.10076393 0.11060739 0.11571697 0.12150282 0.1183469\n",
      " 0.11446747 0.11663249 0.11843465 0.11995181 0.12127438 0.12247214\n",
      " 0.12359054 0.12465639 0.12568465 0.12668364 0.12765826 0.12861177\n",
      " 0.12954666 0.13046494 0.13136832 0.13225815]\n",
      "6 day output [[0.13313559]]\n",
      "7 day input [0.16839073 0.17001879 0.17222292 0.1806387  0.17765811 0.16974327\n",
      " 0.16899186 0.17933626 0.17087038 0.16278021 0.16355667 0.15842204\n",
      " 0.14755166 0.15233563 0.1591985  0.1463995  0.14584847 0.15168441\n",
      " 0.15125861 0.14922981 0.13763306 0.14036318 0.12513463 0.12455855\n",
      " 0.14226675 0.12726362 0.12804008 0.13184721 0.14822793 0.12505949\n",
      " 0.12633688 0.11326237 0.11939887 0.09933626 0.08946775 0.10086412\n",
      " 0.09693175 0.10619912 0.08510958 0.07641828 0.07701941 0.09084534\n",
      " 0.08395742 0.08435817 0.09252348 0.107201   0.10519724 0.10487163\n",
      " 0.11113338 0.096531   0.09843456 0.10487163 0.10299311 0.08966813\n",
      " 0.07586725 0.0627176  0.06492173 0.07160927 0.05815905 0.06191609\n",
      " 0.07271133 0.07140889 0.0787226  0.08721353 0.08721353 0.07664371\n",
      " 0.08112711 0.07484033 0.0803757  0.08696306 0.09036944 0.09896055\n",
      " 0.10068879 0.0952536  0.09773325 0.09680651 0.10427051 0.10852849\n",
      " 0.10076393 0.11060739 0.11571697 0.12150282 0.1183469  0.11446747\n",
      " 0.11663249 0.11843465 0.11995181 0.12127438 0.12247214 0.12359054\n",
      " 0.12465639 0.12568465 0.12668364 0.12765826 0.12861177 0.12954666\n",
      " 0.13046494 0.13136832 0.13225815 0.13313559]\n",
      "7 day output [[0.13400142]]\n",
      "8 day input [0.17001879 0.17222292 0.1806387  0.17765811 0.16974327 0.16899186\n",
      " 0.17933626 0.17087038 0.16278021 0.16355667 0.15842204 0.14755166\n",
      " 0.15233563 0.1591985  0.1463995  0.14584847 0.15168441 0.15125861\n",
      " 0.14922981 0.13763306 0.14036318 0.12513463 0.12455855 0.14226675\n",
      " 0.12726362 0.12804008 0.13184721 0.14822793 0.12505949 0.12633688\n",
      " 0.11326237 0.11939887 0.09933626 0.08946775 0.10086412 0.09693175\n",
      " 0.10619912 0.08510958 0.07641828 0.07701941 0.09084534 0.08395742\n",
      " 0.08435817 0.09252348 0.107201   0.10519724 0.10487163 0.11113338\n",
      " 0.096531   0.09843456 0.10487163 0.10299311 0.08966813 0.07586725\n",
      " 0.0627176  0.06492173 0.07160927 0.05815905 0.06191609 0.07271133\n",
      " 0.07140889 0.0787226  0.08721353 0.08721353 0.07664371 0.08112711\n",
      " 0.07484033 0.0803757  0.08696306 0.09036944 0.09896055 0.10068879\n",
      " 0.0952536  0.09773325 0.09680651 0.10427051 0.10852849 0.10076393\n",
      " 0.11060739 0.11571697 0.12150282 0.1183469  0.11446747 0.11663249\n",
      " 0.11843465 0.11995181 0.12127438 0.12247214 0.12359054 0.12465639\n",
      " 0.12568465 0.12668364 0.12765826 0.12861177 0.12954666 0.13046494\n",
      " 0.13136832 0.13225815 0.13313559 0.13400142]\n",
      "8 day output [[0.13485621]]\n",
      "9 day input [0.17222292 0.1806387  0.17765811 0.16974327 0.16899186 0.17933626\n",
      " 0.17087038 0.16278021 0.16355667 0.15842204 0.14755166 0.15233563\n",
      " 0.1591985  0.1463995  0.14584847 0.15168441 0.15125861 0.14922981\n",
      " 0.13763306 0.14036318 0.12513463 0.12455855 0.14226675 0.12726362\n",
      " 0.12804008 0.13184721 0.14822793 0.12505949 0.12633688 0.11326237\n",
      " 0.11939887 0.09933626 0.08946775 0.10086412 0.09693175 0.10619912\n",
      " 0.08510958 0.07641828 0.07701941 0.09084534 0.08395742 0.08435817\n",
      " 0.09252348 0.107201   0.10519724 0.10487163 0.11113338 0.096531\n",
      " 0.09843456 0.10487163 0.10299311 0.08966813 0.07586725 0.0627176\n",
      " 0.06492173 0.07160927 0.05815905 0.06191609 0.07271133 0.07140889\n",
      " 0.0787226  0.08721353 0.08721353 0.07664371 0.08112711 0.07484033\n",
      " 0.0803757  0.08696306 0.09036944 0.09896055 0.10068879 0.0952536\n",
      " 0.09773325 0.09680651 0.10427051 0.10852849 0.10076393 0.11060739\n",
      " 0.11571697 0.12150282 0.1183469  0.11446747 0.11663249 0.11843465\n",
      " 0.11995181 0.12127438 0.12247214 0.12359054 0.12465639 0.12568465\n",
      " 0.12668364 0.12765826 0.12861177 0.12954666 0.13046494 0.13136832\n",
      " 0.13225815 0.13313559 0.13400142 0.13485621]\n",
      "9 day output [[0.13570032]]\n",
      "[[0.12765826284885406], [0.12861177325248718], [0.129546657204628], [0.13046494126319885], [0.13136832416057587], [0.13225814700126648], [0.133135586977005], [0.13400141894817352], [0.1348562091588974], [0.1357003152370453]]\n"
     ]
    }
   ],
   "source": [
    "# demonstrate prediction for next 10 days\n",
    "from numpy import array\n",
    "\n",
    "lst_output=[]\n",
    "n_steps=100\n",
    "i=0\n",
    "while(i<10):\n",
    "    \n",
    "    if(len(temp_input)>100):\n",
    "        #print(temp_input)\n",
    "        x_input=np.array(temp_input[1:])\n",
    "        print(\"{} day input {}\".format(i,x_input))\n",
    "        x_input=x_input.reshape(1,-1)\n",
    "        x_input = x_input.reshape((1, n_steps, 1))\n",
    "        #print(x_input)\n",
    "        yhat = model.predict(x_input, verbose=0)\n",
    "        print(\"{} day output {}\".format(i,yhat))\n",
    "        temp_input.extend(yhat[0].tolist())\n",
    "        temp_input=temp_input[1:]\n",
    "        #print(temp_input)\n",
    "        lst_output.extend(yhat.tolist())\n",
    "        i=i+1\n",
    "    else:\n",
    "        x_input = x_input.reshape((1, n_steps,1))\n",
    "        yhat = model.predict(x_input, verbose=0)\n",
    "        print(yhat[0])\n",
    "        temp_input.extend(yhat[0].tolist())\n",
    "        print(len(temp_input))\n",
    "        lst_output.extend(yhat.tolist())\n",
    "        i=i+1\n",
    "    \n",
    "\n",
    "print(lst_output)"
   ]
  },
  {
   "cell_type": "code",
   "execution_count": 62,
   "metadata": {},
   "outputs": [],
   "source": [
    "day_new=np.arange(1,101)\n",
    "day_pred=np.arange(101,111)"
   ]
  },
  {
   "cell_type": "code",
   "execution_count": 63,
   "metadata": {},
   "outputs": [
    {
     "data": {
      "text/plain": [
       "1258"
      ]
     },
     "execution_count": 63,
     "metadata": {},
     "output_type": "execute_result"
    }
   ],
   "source": [
    "len(df1)"
   ]
  },
  {
   "cell_type": "code",
   "execution_count": 65,
   "metadata": {},
   "outputs": [
    {
     "data": {
      "text/plain": [
       "[<matplotlib.lines.Line2D at 0x2138f50ac40>]"
      ]
     },
     "execution_count": 65,
     "metadata": {},
     "output_type": "execute_result"
    },
    {
     "data": {
      "image/png": "[encoded data removed]",
      "text/plain": [
       "<Figure size 432x288 with 1 Axes>"
      ]
     },
     "metadata": {
      "needs_background": "light"
     },
     "output_type": "display_data"
    }
   ],
   "source": [
    "plt.plot(day_new,scaler.inverse_transform(df1[len(df1)-time_step:]))\n",
    "plt.plot(day_pred,scaler.inverse_transform(lst_output))"
   ]
  },
  {
   "cell_type": "code",
   "execution_count": 66,
   "metadata": {},
   "outputs": [
    {
     "data": {
      "text/plain": [
       "[<matplotlib.lines.Line2D at 0x2138f564430>]"
      ]
     },
     "execution_count": 66,
     "metadata": {},
     "output_type": "execute_result"
    },
    {
     "data": {
      "image/png": "[encoded data removed]",
      "text/plain": [
       "<Figure size 432x288 with 1 Axes>"
      ]
     },
     "metadata": {
      "needs_background": "light"
     },
     "output_type": "display_data"
    }
   ],
   "source": [
    "df3=df1.tolist()\n",
    "df3.extend(lst_output)\n",
    "plt.plot(df3[1200:])"
   ]
  },
  {
   "cell_type": "code",
   "execution_count": null,
   "metadata": {},
   "outputs": [],
   "source": []
  }
 ],
 "metadata": {
  "kernelspec": {
   "display_name": "Python 3",
   "language": "python",
   "name": "python3"
  },
  "language_info": {
   "codemirror_mode": {
    "name": "ipython",
    "version": 3
   },
   "file_extension": ".py",
   "mimetype": "text/x-python",
   "name": "python",
   "nbconvert_exporter": "python",
   "pygments_lexer": "ipython3",
   "version": "3.8.3"
  }
 },
 "nbformat": 4,
 "nbformat_minor": 4
}
